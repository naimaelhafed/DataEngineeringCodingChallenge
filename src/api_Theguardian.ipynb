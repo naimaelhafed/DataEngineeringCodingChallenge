{
 "cells": [
  {
   "cell_type": "markdown",
   "metadata": {},
   "source": [
    "##                                   Data Engineering Coding Challenge"
   ]
  },
  {
   "cell_type": "markdown",
   "metadata": {},
   "source": [
    "### Poject allows to crawls for articles from a news https://www.theguardian.com/, cleanses the response, stores it in a mongo database, then makes it available to search via an API."
   ]
  },
  {
   "cell_type": "markdown",
   "metadata": {},
   "source": [
    "### L'importation du Module développé:"
   ]
  },
  {
   "cell_type": "code",
   "execution_count": 1,
   "metadata": {},
   "outputs": [],
   "source": [
    "import modproject as myp"
   ]
  },
  {
   "cell_type": "markdown",
   "metadata": {},
   "source": [
    "### Enter the keyword to find articles"
   ]
  },
  {
   "cell_type": "code",
   "execution_count": 2,
   "metadata": {},
   "outputs": [
    {
     "name": "stdout",
     "output_type": "stream",
     "text": [
      "use Keyword to search articles government\n"
     ]
    }
   ],
   "source": [
    "Keyword=input(\"use Keyword to search articles \")"
   ]
  },
  {
   "cell_type": "markdown",
   "metadata": {},
   "source": [
    "### list of Articles"
   ]
  },
  {
   "cell_type": "code",
   "execution_count": 3,
   "metadata": {},
   "outputs": [
    {
     "data": {
      "text/html": [
       "<div>\n",
       "<style scoped>\n",
       "    .dataframe tbody tr th:only-of-type {\n",
       "        vertical-align: middle;\n",
       "    }\n",
       "\n",
       "    .dataframe tbody tr th {\n",
       "        vertical-align: top;\n",
       "    }\n",
       "\n",
       "    .dataframe thead th {\n",
       "        text-align: right;\n",
       "    }\n",
       "</style>\n",
       "<table border=\"1\" class=\"dataframe\">\n",
       "  <thead>\n",
       "    <tr style=\"text-align: right;\">\n",
       "      <th></th>\n",
       "      <th>_id</th>\n",
       "      <th>headline</th>\n",
       "      <th>author</th>\n",
       "      <th>text</th>\n",
       "      <th>url</th>\n",
       "    </tr>\n",
       "  </thead>\n",
       "  <tbody>\n",
       "    <tr>\n",
       "      <th>202</th>\n",
       "      <td>5e98eced5d05b7d10e3db2e6</td>\n",
       "      <td>\\nWould a Premier League pay cut really cost t...</td>\n",
       "      <td>[Paul MacInnes]</td>\n",
       "      <td>T h a t   w a s   t h e   c l a i m   m a d e ...</td>\n",
       "      <td>https://www.theguardian.com/football/2020/apr/...</td>\n",
       "    </tr>\n",
       "    <tr>\n",
       "      <th>318</th>\n",
       "      <td>5e98ed525d05b7d10e3db35a</td>\n",
       "      <td>\\nThousands of casual workers at major footbal...</td>\n",
       "      <td>[Nick Ames]</td>\n",
       "      <td>T h o u s a n d s   o f   c a s u a l   w o r ...</td>\n",
       "      <td>https://www.theguardian.com/football/2020/apr/...</td>\n",
       "    </tr>\n",
       "    <tr>\n",
       "      <th>353</th>\n",
       "      <td>5e98ed705d05b7d10e3db37d</td>\n",
       "      <td>\\nFootballers, tax exiles and the government\\n</td>\n",
       "      <td>[Barry Glendenning]</td>\n",
       "      <td>U n d e r   j u s t i f i e d   a t t a c k   ...</td>\n",
       "      <td>https://www.theguardian.com/football/2020/apr/...</td>\n",
       "    </tr>\n",
       "    <tr>\n",
       "      <th>379</th>\n",
       "      <td>5e98ed855d05b7d10e3db397</td>\n",
       "      <td>\\nIt was wrong to play against Atlético, says ...</td>\n",
       "      <td>[David Conn]</td>\n",
       "      <td>L i v e r p o o l ’ s   C h a m p i o n s   L ...</td>\n",
       "      <td>https://www.theguardian.com/football/2020/apr/...</td>\n",
       "    </tr>\n",
       "    <tr>\n",
       "      <th>511</th>\n",
       "      <td>5e98ede85d05b7d10e3db41b</td>\n",
       "      <td>\\nCoe and Ovett's Olympic debt to bureaucrat w...</td>\n",
       "      <td>[Andy Bull]</td>\n",
       "      <td>S i r   D e n i s   F o l l o w s ,   7 1 ,   ...</td>\n",
       "      <td>https://www.theguardian.com/sport/blog/2020/ma...</td>\n",
       "    </tr>\n",
       "    <tr>\n",
       "      <th>519</th>\n",
       "      <td>5e98edef5d05b7d10e3db423</td>\n",
       "      <td>\\nConor McGregor calls on military to help enf...</td>\n",
       "      <td>[]</td>\n",
       "      <td>C o n o r   M c G r e g o r   h a s   c a l l ...</td>\n",
       "      <td>https://www.theguardian.com/sport/2020/mar/28/...</td>\n",
       "    </tr>\n",
       "    <tr>\n",
       "      <th>688</th>\n",
       "      <td>5e98ee925d05b7d10e3db4cc</td>\n",
       "      <td>\\nCoronavirus Australia latest: 23 March at a ...</td>\n",
       "      <td>[Lisa Cox]</td>\n",
       "      <td>T h e   A u s t r a l i a n   O l y m p i c   ...</td>\n",
       "      <td>https://www.theguardian.com/world/2020/mar/23/...</td>\n",
       "    </tr>\n",
       "    <tr>\n",
       "      <th>697</th>\n",
       "      <td>5e98ee9d5d05b7d10e3db4d5</td>\n",
       "      <td>\\n‘I thought it was appalling': anger over Atl...</td>\n",
       "      <td>[David Conn]</td>\n",
       "      <td>A t   a   p a c k e d   A n f i e l d   o n   ...</td>\n",
       "      <td>https://www.theguardian.com/football/2020/mar/...</td>\n",
       "    </tr>\n",
       "    <tr>\n",
       "      <th>810</th>\n",
       "      <td>5e98ef0f5d05b7d10e3db546</td>\n",
       "      <td>\\nEFL announces £50m relief package for clubs ...</td>\n",
       "      <td>[David Conn]</td>\n",
       "      <td>T h e   E n g l i s h   F o o t b a l l   L e ...</td>\n",
       "      <td>https://www.theguardian.com/football/2020/mar/...</td>\n",
       "    </tr>\n",
       "    <tr>\n",
       "      <th>882</th>\n",
       "      <td>5e98ef445d05b7d10e3db58e</td>\n",
       "      <td>\\nTalking Horses: all racing suspended until e...</td>\n",
       "      <td>[Greg Wood]</td>\n",
       "      <td>T h e   B r i t i s h   H o r s e r a c i n g ...</td>\n",
       "      <td>https://www.theguardian.com/sport/blog/2020/ma...</td>\n",
       "    </tr>\n",
       "    <tr>\n",
       "      <th>926</th>\n",
       "      <td>5e98ef695d05b7d10e3db5ba</td>\n",
       "      <td>\\nHorse racing in England and Wales set to be ...</td>\n",
       "      <td>[Greg Wood]</td>\n",
       "      <td>B r i t i s h   r a c i n g   i s   l i k e l ...</td>\n",
       "      <td>https://www.theguardian.com/sport/2020/mar/15/...</td>\n",
       "    </tr>\n",
       "  </tbody>\n",
       "</table>\n",
       "</div>"
      ],
      "text/plain": [
       "                          _id  \\\n",
       "202  5e98eced5d05b7d10e3db2e6   \n",
       "318  5e98ed525d05b7d10e3db35a   \n",
       "353  5e98ed705d05b7d10e3db37d   \n",
       "379  5e98ed855d05b7d10e3db397   \n",
       "511  5e98ede85d05b7d10e3db41b   \n",
       "519  5e98edef5d05b7d10e3db423   \n",
       "688  5e98ee925d05b7d10e3db4cc   \n",
       "697  5e98ee9d5d05b7d10e3db4d5   \n",
       "810  5e98ef0f5d05b7d10e3db546   \n",
       "882  5e98ef445d05b7d10e3db58e   \n",
       "926  5e98ef695d05b7d10e3db5ba   \n",
       "\n",
       "                                              headline               author  \\\n",
       "202  \\nWould a Premier League pay cut really cost t...      [Paul MacInnes]   \n",
       "318  \\nThousands of casual workers at major footbal...          [Nick Ames]   \n",
       "353     \\nFootballers, tax exiles and the government\\n  [Barry Glendenning]   \n",
       "379  \\nIt was wrong to play against Atlético, says ...         [David Conn]   \n",
       "511  \\nCoe and Ovett's Olympic debt to bureaucrat w...          [Andy Bull]   \n",
       "519  \\nConor McGregor calls on military to help enf...                   []   \n",
       "688  \\nCoronavirus Australia latest: 23 March at a ...           [Lisa Cox]   \n",
       "697  \\n‘I thought it was appalling': anger over Atl...         [David Conn]   \n",
       "810  \\nEFL announces £50m relief package for clubs ...         [David Conn]   \n",
       "882  \\nTalking Horses: all racing suspended until e...          [Greg Wood]   \n",
       "926  \\nHorse racing in England and Wales set to be ...          [Greg Wood]   \n",
       "\n",
       "                                                  text  \\\n",
       "202  T h a t   w a s   t h e   c l a i m   m a d e ...   \n",
       "318  T h o u s a n d s   o f   c a s u a l   w o r ...   \n",
       "353  U n d e r   j u s t i f i e d   a t t a c k   ...   \n",
       "379  L i v e r p o o l ’ s   C h a m p i o n s   L ...   \n",
       "511  S i r   D e n i s   F o l l o w s ,   7 1 ,   ...   \n",
       "519  C o n o r   M c G r e g o r   h a s   c a l l ...   \n",
       "688  T h e   A u s t r a l i a n   O l y m p i c   ...   \n",
       "697  A t   a   p a c k e d   A n f i e l d   o n   ...   \n",
       "810  T h e   E n g l i s h   F o o t b a l l   L e ...   \n",
       "882  T h e   B r i t i s h   H o r s e r a c i n g ...   \n",
       "926  B r i t i s h   r a c i n g   i s   l i k e l ...   \n",
       "\n",
       "                                                   url  \n",
       "202  https://www.theguardian.com/football/2020/apr/...  \n",
       "318  https://www.theguardian.com/football/2020/apr/...  \n",
       "353  https://www.theguardian.com/football/2020/apr/...  \n",
       "379  https://www.theguardian.com/football/2020/apr/...  \n",
       "511  https://www.theguardian.com/sport/blog/2020/ma...  \n",
       "519  https://www.theguardian.com/sport/2020/mar/28/...  \n",
       "688  https://www.theguardian.com/world/2020/mar/23/...  \n",
       "697  https://www.theguardian.com/football/2020/mar/...  \n",
       "810  https://www.theguardian.com/football/2020/mar/...  \n",
       "882  https://www.theguardian.com/sport/blog/2020/ma...  \n",
       "926  https://www.theguardian.com/sport/2020/mar/15/...  "
      ]
     },
     "execution_count": 3,
     "metadata": {},
     "output_type": "execute_result"
    }
   ],
   "source": [
    "import pandas as pd\n",
    "Articles=dataset=pd.DataFrame(myp.getArticles(Keyword))\n",
    "Articles"
   ]
  },
  {
   "cell_type": "code",
   "execution_count": null,
   "metadata": {},
   "outputs": [],
   "source": []
  }
 ],
 "metadata": {
  "kernelspec": {
   "display_name": "Python 3",
   "language": "python",
   "name": "python3"
  },
  "language_info": {
   "codemirror_mode": {
    "name": "ipython",
    "version": 3
   },
   "file_extension": ".py",
   "mimetype": "text/x-python",
   "name": "python",
   "nbconvert_exporter": "python",
   "pygments_lexer": "ipython3",
   "version": "3.7.5"
  }
 },
 "nbformat": 4,
 "nbformat_minor": 2
}

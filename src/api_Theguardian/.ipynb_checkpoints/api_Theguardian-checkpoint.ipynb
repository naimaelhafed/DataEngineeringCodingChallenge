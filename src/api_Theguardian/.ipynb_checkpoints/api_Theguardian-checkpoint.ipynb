{
 "cells": [
  {
   "cell_type": "markdown",
   "metadata": {},
   "source": [
    "## Data Engineering Coding Challenge"
   ]
  },
  {
   "cell_type": "markdown",
   "metadata": {},
   "source": [
    "### Poject allows to crawls for articles from a news https://www.theguardian.com/, cleanses the response, stores it in a mongo database, then makes it available to search via an API."
   ]
  },
  {
   "cell_type": "markdown",
   "metadata": {},
   "source": [
    "### L'importation du Module développé:"
   ]
  },
  {
   "cell_type": "code",
   "execution_count": 1,
   "metadata": {},
   "outputs": [
    {
     "name": "stderr",
     "output_type": "stream",
     "text": [
      "[nltk_data] Downloading package stopwords to\n",
      "[nltk_data]     C:\\Users\\Perso\\AppData\\Roaming\\nltk_data...\n",
      "[nltk_data]   Package stopwords is already up-to-date!\n",
      "[nltk_data] Downloading package wordnet to\n",
      "[nltk_data]     C:\\Users\\Perso\\AppData\\Roaming\\nltk_data...\n",
      "[nltk_data]   Package wordnet is already up-to-date!\n"
     ]
    }
   ],
   "source": [
    "import modproject as myp"
   ]
  },
  {
   "cell_type": "markdown",
   "metadata": {},
   "source": [
    "### Enter the keyword to find articles"
   ]
  },
  {
   "cell_type": "code",
   "execution_count": 2,
   "metadata": {},
   "outputs": [
    {
     "name": "stdout",
     "output_type": "stream",
     "text": [
      "use Keyword to search articles sport\n"
     ]
    }
   ],
   "source": [
    "Keyword=input(\"use Keyword to search articles \")"
   ]
  },
  {
   "cell_type": "markdown",
   "metadata": {},
   "source": [
    "### list of Articles"
   ]
  },
  {
   "cell_type": "code",
   "execution_count": 3,
   "metadata": {
    "scrolled": true
   },
   "outputs": [
    {
     "data": {
      "text/html": [
       "<div>\n",
       "<style scoped>\n",
       "    .dataframe tbody tr th:only-of-type {\n",
       "        vertical-align: middle;\n",
       "    }\n",
       "\n",
       "    .dataframe tbody tr th {\n",
       "        vertical-align: top;\n",
       "    }\n",
       "\n",
       "    .dataframe thead th {\n",
       "        text-align: right;\n",
       "    }\n",
       "</style>\n",
       "<table border=\"1\" class=\"dataframe\">\n",
       "  <thead>\n",
       "    <tr style=\"text-align: right;\">\n",
       "      <th></th>\n",
       "      <th>_id</th>\n",
       "      <th>headline</th>\n",
       "      <th>author</th>\n",
       "      <th>text</th>\n",
       "      <th>url</th>\n",
       "    </tr>\n",
       "  </thead>\n",
       "  <tbody>\n",
       "    <tr>\n",
       "      <th>32</th>\n",
       "      <td>5ed923e8fa27c5d5352f3474</td>\n",
       "      <td>\\nDon't stand so close to me! England's new ru...</td>\n",
       "      <td>[Zoe Williams]</td>\n",
       "      <td>From this week the lockdown rules in England h...</td>\n",
       "      <td>https://www.theguardian.com/lifeandstyle/2020/...</td>\n",
       "    </tr>\n",
       "    <tr>\n",
       "      <th>42</th>\n",
       "      <td>5ed923f4fa27c5d5352f3483</td>\n",
       "      <td>\\nOn the run: lack of sport drives fans to mad...</td>\n",
       "      <td>[Esther Addley]</td>\n",
       "      <td>“Can’t believe I watched this all the way to t...</td>\n",
       "      <td>https://www.theguardian.com/technology/2020/ju...</td>\n",
       "    </tr>\n",
       "    <tr>\n",
       "      <th>94</th>\n",
       "      <td>5ed92462e73e9bf5b7f6661c</td>\n",
       "      <td>\\n'The atmosphere was brilliant:' fans fail to...</td>\n",
       "      <td>[Shaun Walker]</td>\n",
       "      <td>With chanting, drums and some very loosely enf...</td>\n",
       "      <td>https://www.theguardian.com/football/2020/jun/...</td>\n",
       "    </tr>\n",
       "    <tr>\n",
       "      <th>116</th>\n",
       "      <td>5ed924960822025db08d031a</td>\n",
       "      <td>\\nTalking Horses: Royal Ascot prize fund for 2...</td>\n",
       "      <td>[Greg Wood]</td>\n",
       "      <td>The huge impact that the two-and-a-half month ...</td>\n",
       "      <td>https://www.theguardian.com/sport/2020/jun/03/...</td>\n",
       "    </tr>\n",
       "    <tr>\n",
       "      <th>143</th>\n",
       "      <td>5ed924b60822025db08d033d</td>\n",
       "      <td>\\nPremier League: the 10 most in-form players ...</td>\n",
       "      <td>[Martin Laurence]</td>\n",
       "      <td>With a return date now in place and anticipati...</td>\n",
       "      <td>https://www.theguardian.com/football/who-score...</td>\n",
       "    </tr>\n",
       "    <tr>\n",
       "      <th>144</th>\n",
       "      <td>5ed924b60822025db08d033e</td>\n",
       "      <td>\\nNBA set to resume action on 31 July in Orlan...</td>\n",
       "      <td>[Tom Lutz]</td>\n",
       "      <td>The NBA is set to become the first major North...</td>\n",
       "      <td>https://www.theguardian.com/sport/2020/jun/03/...</td>\n",
       "    </tr>\n",
       "    <tr>\n",
       "      <th>147</th>\n",
       "      <td>5ed924bb0822025db08d0342</td>\n",
       "      <td>\\nMy favourite game: shock and awe at George G...</td>\n",
       "      <td>[Sachin Nakrani]</td>\n",
       "      <td>Sport is meant to provide us with competition,...</td>\n",
       "      <td>https://www.theguardian.com/sport/2020/jun/03/...</td>\n",
       "    </tr>\n",
       "    <tr>\n",
       "      <th>148</th>\n",
       "      <td>5ed924bd0822025db08d0343</td>\n",
       "      <td>\\nBobby Joe Morrow, the 1956 Olympic sprint ch...</td>\n",
       "      <td>[Andy Bull]</td>\n",
       "      <td>Four men have won the sprint triple of 100m, 2...</td>\n",
       "      <td>https://www.theguardian.com/sport/blog/2020/ju...</td>\n",
       "    </tr>\n",
       "    <tr>\n",
       "      <th>149</th>\n",
       "      <td>5ed924be0822025db08d0345</td>\n",
       "      <td>\\nSilverstone to host two August grands prix a...</td>\n",
       "      <td>[Giles Richards]</td>\n",
       "      <td>Formula One has confirmed its rescheduled cale...</td>\n",
       "      <td>https://www.theguardian.com/sport/2020/jun/02/...</td>\n",
       "    </tr>\n",
       "    <tr>\n",
       "      <th>156</th>\n",
       "      <td>5ed924de02d8bdab1408fc0b</td>\n",
       "      <td>\\nBafta TV awards nominations 2020: Netflix an...</td>\n",
       "      <td>[Mark Lawson]</td>\n",
       "      <td>Due to his notoriously unreliable eyesight, Do...</td>\n",
       "      <td>https://www.theguardian.com/tv-and-radio/2020/...</td>\n",
       "    </tr>\n",
       "    <tr>\n",
       "      <th>161</th>\n",
       "      <td>5ed924e402d8bdab1408fc10</td>\n",
       "      <td>\\nDaugherty: This Land Sings review – exuberan...</td>\n",
       "      <td>[Andrew Clements]</td>\n",
       "      <td>Michael Daugherty’s music has always embraced ...</td>\n",
       "      <td>https://www.theguardian.com/music/2020/jun/04/...</td>\n",
       "    </tr>\n",
       "  </tbody>\n",
       "</table>\n",
       "</div>"
      ],
      "text/plain": [
       "                          _id  \\\n",
       "32   5ed923e8fa27c5d5352f3474   \n",
       "42   5ed923f4fa27c5d5352f3483   \n",
       "94   5ed92462e73e9bf5b7f6661c   \n",
       "116  5ed924960822025db08d031a   \n",
       "143  5ed924b60822025db08d033d   \n",
       "144  5ed924b60822025db08d033e   \n",
       "147  5ed924bb0822025db08d0342   \n",
       "148  5ed924bd0822025db08d0343   \n",
       "149  5ed924be0822025db08d0345   \n",
       "156  5ed924de02d8bdab1408fc0b   \n",
       "161  5ed924e402d8bdab1408fc10   \n",
       "\n",
       "                                              headline             author  \\\n",
       "32   \\nDon't stand so close to me! England's new ru...     [Zoe Williams]   \n",
       "42   \\nOn the run: lack of sport drives fans to mad...    [Esther Addley]   \n",
       "94   \\n'The atmosphere was brilliant:' fans fail to...     [Shaun Walker]   \n",
       "116  \\nTalking Horses: Royal Ascot prize fund for 2...        [Greg Wood]   \n",
       "143  \\nPremier League: the 10 most in-form players ...  [Martin Laurence]   \n",
       "144  \\nNBA set to resume action on 31 July in Orlan...         [Tom Lutz]   \n",
       "147  \\nMy favourite game: shock and awe at George G...   [Sachin Nakrani]   \n",
       "148  \\nBobby Joe Morrow, the 1956 Olympic sprint ch...        [Andy Bull]   \n",
       "149  \\nSilverstone to host two August grands prix a...   [Giles Richards]   \n",
       "156  \\nBafta TV awards nominations 2020: Netflix an...      [Mark Lawson]   \n",
       "161  \\nDaugherty: This Land Sings review – exuberan...  [Andrew Clements]   \n",
       "\n",
       "                                                  text  \\\n",
       "32   From this week the lockdown rules in England h...   \n",
       "42   “Can’t believe I watched this all the way to t...   \n",
       "94   With chanting, drums and some very loosely enf...   \n",
       "116  The huge impact that the two-and-a-half month ...   \n",
       "143  With a return date now in place and anticipati...   \n",
       "144  The NBA is set to become the first major North...   \n",
       "147  Sport is meant to provide us with competition,...   \n",
       "148  Four men have won the sprint triple of 100m, 2...   \n",
       "149  Formula One has confirmed its rescheduled cale...   \n",
       "156  Due to his notoriously unreliable eyesight, Do...   \n",
       "161  Michael Daugherty’s music has always embraced ...   \n",
       "\n",
       "                                                   url  \n",
       "32   https://www.theguardian.com/lifeandstyle/2020/...  \n",
       "42   https://www.theguardian.com/technology/2020/ju...  \n",
       "94   https://www.theguardian.com/football/2020/jun/...  \n",
       "116  https://www.theguardian.com/sport/2020/jun/03/...  \n",
       "143  https://www.theguardian.com/football/who-score...  \n",
       "144  https://www.theguardian.com/sport/2020/jun/03/...  \n",
       "147  https://www.theguardian.com/sport/2020/jun/03/...  \n",
       "148  https://www.theguardian.com/sport/blog/2020/ju...  \n",
       "149  https://www.theguardian.com/sport/2020/jun/02/...  \n",
       "156  https://www.theguardian.com/tv-and-radio/2020/...  \n",
       "161  https://www.theguardian.com/music/2020/jun/04/...  "
      ]
     },
     "execution_count": 3,
     "metadata": {},
     "output_type": "execute_result"
    }
   ],
   "source": [
    "import pandas as pd\n",
    "Articles=dataset=pd.DataFrame(myp.getarticles(Keyword))\n",
    "Articles"
   ]
  }
 ],
 "metadata": {
  "kernelspec": {
   "display_name": "Python 3",
   "language": "python",
   "name": "python3"
  },
  "language_info": {
   "codemirror_mode": {
    "name": "ipython",
    "version": 3
   },
   "file_extension": ".py",
   "mimetype": "text/x-python",
   "name": "python",
   "nbconvert_exporter": "python",
   "pygments_lexer": "ipython3",
   "version": "3.7.5"
  }
 },
 "nbformat": 4,
 "nbformat_minor": 2
}
